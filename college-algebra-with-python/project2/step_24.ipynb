{
 "cells": [
  {
   "cell_type": "code",
   "execution_count": 9,
   "metadata": {},
   "outputs": [
    {
     "name": "stdout",
     "output_type": "stream",
     "text": [
      "The solution is: x = 1/4, y = 17/4\n"
     ]
    }
   ],
   "source": [
    "import matplotlib.pyplot as plt\n",
    "import numpy as np\n",
    "from sympy import symbols, Eq, solve\n",
    "\n",
    "\n",
    "def display_graph_and_table():\n",
    "    # graph\n",
    "    equation = input(\"Enter the equation: y = \")\n",
    "    x = np.linspace(-10, 10, 100)\n",
    "    y = eval(equation)\n",
    "    plt.plot(x, y)\n",
    "    plt.xlabel(\"x-axis\")\n",
    "    plt.ylabel(\"y-axis\")\n",
    "    plt.title(f\"Graph of {equation}\")\n",
    "    plt.grid(True)\n",
    "    plt.show()\n",
    "\n",
    "    # table\n",
    "    rows = [[i, eval(equation.replace(\"x\", str(i)))] for i in range(10)]\n",
    "\n",
    "    fig, ax = plt.subplots()\n",
    "    ax.axis(\"off\")  # Use axis method to turn off the axes\n",
    "    ax.set_title(equation)\n",
    "\n",
    "    col_labels = (\"x\", \"y\")\n",
    "    table = ax.table(\n",
    "        cellText=rows, colLabels=col_labels, cellLoc=\"center\", loc=\"upper left\"\n",
    "    )\n",
    "    table.auto_set_font_size(False)\n",
    "    table.set_fontsize(10)\n",
    "    table.scale(1, 1.5)  # Adjust the table size if needed\n",
    "\n",
    "    plt.show()\n",
    "\n",
    "\n",
    "def solve_system_of_equations():\n",
    "    eq1 = input(\"Enter the first equation in terms of 'x' and 'y': \")\n",
    "    eq2 = input(\"Enter the second equation in terms of 'x' and 'y': \")\n",
    "\n",
    "    x, y = symbols(\"x y\")\n",
    "    solution = solve([Eq(eval(eq1), 0), Eq(eval(eq2), 0)], (x, y))\n",
    "\n",
    "    print(f\"The solution is: x = {solution[x]}, y = {solution[y]}\")\n",
    "\n",
    "\n"
   ]
  }
 ],
 "metadata": {
  "kernelspec": {
   "display_name": "Python 3",
   "language": "python",
   "name": "python3"
  },
  "language_info": {
   "codemirror_mode": {
    "name": "ipython",
    "version": 3
   },
   "file_extension": ".py",
   "mimetype": "text/x-python",
   "name": "python",
   "nbconvert_exporter": "python",
   "pygments_lexer": "ipython3",
   "version": "3.10.9"
  }
 },
 "nbformat": 4,
 "nbformat_minor": 2
}
