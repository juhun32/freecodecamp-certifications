{
 "cells": [
  {
   "cell_type": "code",
   "execution_count": null,
   "metadata": {},
   "outputs": [],
   "source": [
    "print('''Menu:\n",
    "1. Add\n",
    "2. Subtract\n",
    "3. Multiply\n",
    "4. Divide\n",
    "5. Detect Prime Number\n",
    "6. Generate Prime Factors\n",
    "7. Simplify Square Root\n",
    "8. Solve for a Variable\n",
    "9. Quit''')\n",
    "\n",
    "# User input\n",
    "cmd = input(\"Enter the number of your cmd: \")\n",
    "\n",
    "if cmd == \"1\":\n",
    "    add()\n",
    "elif cmd == \"2\":\n",
    "    subtract()\n",
    "elif cmd == \"3\":\n",
    "    multiply()\n",
    "elif cmd == \"4\":\n",
    "    divide()\n",
    "elif cmd == \"5\":\n",
    "    detect_prime()\n",
    "elif cmd == \"6\":\n",
    "    prime_factors()\n",
    "elif cmd == \"7\":\n",
    "    simplify_square_root()\n",
    "elif cmd == \"8\":\n",
    "    solve_equation()\n",
    "elif cmd == \"9\":\n",
    "    print(\"Terminated\")\n",
    "else:\n",
    "    print(\"Invalid\")"
   ]
  }
 ],
 "metadata": {
  "language_info": {
   "name": "python"
  }
 },
 "nbformat": 4,
 "nbformat_minor": 2
}
